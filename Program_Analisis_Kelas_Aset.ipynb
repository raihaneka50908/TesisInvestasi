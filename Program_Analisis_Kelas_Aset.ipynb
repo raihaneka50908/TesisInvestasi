{
 "cells": [
  {
   "cell_type": "code",
   "execution_count": 1,
   "id": "916cd485",
   "metadata": {},
   "outputs": [
    {
     "name": "stdout",
     "output_type": "stream",
     "text": [
      "Requirement already satisfied: scikit-learn in /Volumes/Kerja_Keras/Folder_Fold_Recovery/For Learning/Bootcamp Binar/GoldChallange_Binar/gold_binar/lib/python3.9/site-packages (1.2.2)\n",
      "Requirement already satisfied: numpy>=1.17.3 in /Volumes/Kerja_Keras/Folder_Fold_Recovery/For Learning/Bootcamp Binar/GoldChallange_Binar/gold_binar/lib/python3.9/site-packages (from scikit-learn) (1.23.5)\n",
      "Requirement already satisfied: threadpoolctl>=2.0.0 in /Volumes/Kerja_Keras/Folder_Fold_Recovery/For Learning/Bootcamp Binar/GoldChallange_Binar/gold_binar/lib/python3.9/site-packages (from scikit-learn) (3.1.0)\n",
      "Requirement already satisfied: scipy>=1.3.2 in /Volumes/Kerja_Keras/Folder_Fold_Recovery/For Learning/Bootcamp Binar/GoldChallange_Binar/gold_binar/lib/python3.9/site-packages (from scikit-learn) (1.10.1)\n",
      "Requirement already satisfied: joblib>=1.1.1 in /Volumes/Kerja_Keras/Folder_Fold_Recovery/For Learning/Bootcamp Binar/GoldChallange_Binar/gold_binar/lib/python3.9/site-packages (from scikit-learn) (1.2.0)\n",
      "\u001b[33mWARNING: You are using pip version 21.2.4; however, version 23.1.2 is available.\n",
      "You should consider upgrading via the '/Volumes/Kerja_Keras/Folder_Fold_Recovery/For Learning/Bootcamp Binar/GoldChallange_Binar/gold_binar/bin/python3 -m pip install --upgrade pip' command.\u001b[0m\n"
     ]
    }
   ],
   "source": [
    "!pip3 install scikit-learn"
   ]
  },
  {
   "cell_type": "code",
   "execution_count": 2,
   "id": "4dfebacd",
   "metadata": {},
   "outputs": [],
   "source": [
    "import numpy as np\n",
    "import matplotlib.pyplot as plt\n",
    "import pandas as pd\n",
    "import yfinance as yf\n",
    "import seaborn as sns\n",
    "from sklearn.preprocessing import MinMaxScaler"
   ]
  },
  {
   "cell_type": "code",
   "execution_count": 3,
   "id": "9c788617",
   "metadata": {},
   "outputs": [
    {
     "name": "stdout",
     "output_type": "stream",
     "text": [
      "[*********************100%***********************]  1 of 1 completed\n",
      "[*********************100%***********************]  1 of 1 completed\n",
      "[*********************100%***********************]  1 of 1 completed\n",
      "[*********************100%***********************]  1 of 1 completed\n"
     ]
    }
   ],
   "source": [
    "btc = yf.download('BTC-USD', start='2010-01-01')\n",
    "gold = yf.download('GC=F',start = '2010-01-01')\n",
    "sp500 = yf.download('^GSPC', start='2010-01-01')\n",
    "nasdaq = yf.download('^IXIC', start='2010-01-01')\n",
    "usm2 = pd.read_csv(\"M2SL.csv\")\n",
    "\n",
    "usm2['DATE'] = pd.to_datetime(usm2['DATE'])\n",
    "usm2 = usm2.set_index('DATE')"
   ]
  },
  {
   "cell_type": "code",
   "execution_count": 4,
   "id": "124d0b60",
   "metadata": {},
   "outputs": [],
   "source": [
    "df = pd.concat([btc['Adj Close'], gold['Adj Close'], sp500['Adj Close'], nasdaq['Adj Close']], axis=1)\n",
    "df = pd.concat([df,usm2['M2SL']],axis=1)\n",
    "df.columns = ['BTC', 'Gold', 'S&P500', 'NASDAQ','M2SL']"
   ]
  },
  {
   "cell_type": "code",
   "execution_count": 5,
   "id": "de80e6c9",
   "metadata": {},
   "outputs": [],
   "source": [
    "df.dropna(inplace = True)"
   ]
  },
  {
   "cell_type": "code",
   "execution_count": 6,
   "id": "8f886196",
   "metadata": {},
   "outputs": [
    {
     "data": {
      "text/html": [
       "<div>\n",
       "<style scoped>\n",
       "    .dataframe tbody tr th:only-of-type {\n",
       "        vertical-align: middle;\n",
       "    }\n",
       "\n",
       "    .dataframe tbody tr th {\n",
       "        vertical-align: top;\n",
       "    }\n",
       "\n",
       "    .dataframe thead th {\n",
       "        text-align: right;\n",
       "    }\n",
       "</style>\n",
       "<table border=\"1\" class=\"dataframe\">\n",
       "  <thead>\n",
       "    <tr style=\"text-align: right;\">\n",
       "      <th></th>\n",
       "      <th>BTC</th>\n",
       "      <th>Gold</th>\n",
       "      <th>S&amp;P500</th>\n",
       "      <th>NASDAQ</th>\n",
       "      <th>M2SL</th>\n",
       "    </tr>\n",
       "  </thead>\n",
       "  <tbody>\n",
       "    <tr>\n",
       "      <th>2014-10-01</th>\n",
       "      <td>383.614990</td>\n",
       "      <td>1214.599976</td>\n",
       "      <td>1946.160034</td>\n",
       "      <td>4422.089844</td>\n",
       "      <td>11566.0</td>\n",
       "    </tr>\n",
       "    <tr>\n",
       "      <th>2014-12-01</th>\n",
       "      <td>379.244995</td>\n",
       "      <td>1218.000000</td>\n",
       "      <td>2053.439941</td>\n",
       "      <td>4727.350098</td>\n",
       "      <td>11684.9</td>\n",
       "    </tr>\n",
       "    <tr>\n",
       "      <th>2015-04-01</th>\n",
       "      <td>247.272003</td>\n",
       "      <td>1208.099976</td>\n",
       "      <td>2059.689941</td>\n",
       "      <td>4880.229980</td>\n",
       "      <td>11928.9</td>\n",
       "    </tr>\n",
       "    <tr>\n",
       "      <th>2015-05-01</th>\n",
       "      <td>232.078995</td>\n",
       "      <td>1174.500000</td>\n",
       "      <td>2108.290039</td>\n",
       "      <td>5005.390137</td>\n",
       "      <td>11957.9</td>\n",
       "    </tr>\n",
       "    <tr>\n",
       "      <th>2015-06-01</th>\n",
       "      <td>222.925995</td>\n",
       "      <td>1188.300049</td>\n",
       "      <td>2111.729980</td>\n",
       "      <td>5082.930176</td>\n",
       "      <td>12001.7</td>\n",
       "    </tr>\n",
       "    <tr>\n",
       "      <th>...</th>\n",
       "      <td>...</td>\n",
       "      <td>...</td>\n",
       "      <td>...</td>\n",
       "      <td>...</td>\n",
       "      <td>...</td>\n",
       "    </tr>\n",
       "    <tr>\n",
       "      <th>2022-09-01</th>\n",
       "      <td>20127.140625</td>\n",
       "      <td>1696.599976</td>\n",
       "      <td>3966.850098</td>\n",
       "      <td>11785.129883</td>\n",
       "      <td>21523.1</td>\n",
       "    </tr>\n",
       "    <tr>\n",
       "      <th>2022-11-01</th>\n",
       "      <td>20485.273438</td>\n",
       "      <td>1645.000000</td>\n",
       "      <td>3856.100098</td>\n",
       "      <td>10890.849609</td>\n",
       "      <td>21396.9</td>\n",
       "    </tr>\n",
       "    <tr>\n",
       "      <th>2022-12-01</th>\n",
       "      <td>16967.132812</td>\n",
       "      <td>1801.099976</td>\n",
       "      <td>4076.570068</td>\n",
       "      <td>11482.450195</td>\n",
       "      <td>21357.7</td>\n",
       "    </tr>\n",
       "    <tr>\n",
       "      <th>2023-02-01</th>\n",
       "      <td>23723.769531</td>\n",
       "      <td>1927.800049</td>\n",
       "      <td>4119.209961</td>\n",
       "      <td>11816.320312</td>\n",
       "      <td>21075.4</td>\n",
       "    </tr>\n",
       "    <tr>\n",
       "      <th>2023-03-01</th>\n",
       "      <td>23646.550781</td>\n",
       "      <td>1837.699951</td>\n",
       "      <td>3951.389893</td>\n",
       "      <td>11379.480469</td>\n",
       "      <td>20818.1</td>\n",
       "    </tr>\n",
       "  </tbody>\n",
       "</table>\n",
       "<p>68 rows × 5 columns</p>\n",
       "</div>"
      ],
      "text/plain": [
       "                     BTC         Gold       S&P500        NASDAQ     M2SL\n",
       "2014-10-01    383.614990  1214.599976  1946.160034   4422.089844  11566.0\n",
       "2014-12-01    379.244995  1218.000000  2053.439941   4727.350098  11684.9\n",
       "2015-04-01    247.272003  1208.099976  2059.689941   4880.229980  11928.9\n",
       "2015-05-01    232.078995  1174.500000  2108.290039   5005.390137  11957.9\n",
       "2015-06-01    222.925995  1188.300049  2111.729980   5082.930176  12001.7\n",
       "...                  ...          ...          ...           ...      ...\n",
       "2022-09-01  20127.140625  1696.599976  3966.850098  11785.129883  21523.1\n",
       "2022-11-01  20485.273438  1645.000000  3856.100098  10890.849609  21396.9\n",
       "2022-12-01  16967.132812  1801.099976  4076.570068  11482.450195  21357.7\n",
       "2023-02-01  23723.769531  1927.800049  4119.209961  11816.320312  21075.4\n",
       "2023-03-01  23646.550781  1837.699951  3951.389893  11379.480469  20818.1\n",
       "\n",
       "[68 rows x 5 columns]"
      ]
     },
     "execution_count": 6,
     "metadata": {},
     "output_type": "execute_result"
    }
   ],
   "source": [
    "df"
   ]
  },
  {
   "cell_type": "code",
   "execution_count": 7,
   "id": "b9a92e3c",
   "metadata": {},
   "outputs": [],
   "source": [
    "perubahan_btc = ((df['BTC'][-1]-df['BTC'][0])/df['BTC'][0])*100\n",
    "perubahan_gold = ((df['Gold'][-1]-df['Gold'][0])/df['Gold'][0])*100\n",
    "perubahan_sp500 = ((df['S&P500'][-1]-df['S&P500'][0])/df['S&P500'][0])*100\n",
    "perubahan_nasdaq = ((df['NASDAQ'][-1]-df['NASDAQ'][0])/df['NASDAQ'][0])*100\n",
    "perubahan_M2SL = ((df['M2SL'][-1]-df['M2SL'][0])/usm2['M2SL'][0])*100"
   ]
  },
  {
   "cell_type": "code",
   "execution_count": 8,
   "id": "c59a9fc4",
   "metadata": {},
   "outputs": [],
   "source": [
    "list_Asset = ['BTC','GOLD','SP500','NASDAQ','M2SL']\n",
    "nilai_perubahan = [perubahan_btc,perubahan_gold,perubahan_sp500,perubahan_nasdaq,perubahan_M2SL]"
   ]
  },
  {
   "cell_type": "code",
   "execution_count": 9,
   "id": "bc055cc1",
   "metadata": {},
   "outputs": [
    {
     "data": {
      "text/plain": [
       "Text(0, 0.5, 'Presentase Perubahan % \\n Since 2014-10-01 until 2023-03-01 ')"
      ]
     },
     "execution_count": 9,
     "metadata": {},
     "output_type": "execute_result"
    },
    {
     "data": {
      "image/png": "[encoded data removed]",
      "text/plain": [
       "<Figure size 640x480 with 1 Axes>"
      ]
     },
     "metadata": {},
     "output_type": "display_data"
    }
   ],
   "source": [
    "plt.figure(1)\n",
    "plt.bar(list_Asset,nilai_perubahan)\n",
    "plt.xlabel(\"Asset Class\")\n",
    "plt.ylabel(\"Presentase Perubahan % \\n Since 2014-10-01 until 2023-03-01 \")"
   ]
  },
  {
   "cell_type": "code",
   "execution_count": 10,
   "id": "7b6f4371",
   "metadata": {},
   "outputs": [],
   "source": [
    "# Mencari Korelasi Antara Asset Tersebut"
   ]
  },
  {
   "cell_type": "code",
   "execution_count": 11,
   "id": "27e359c6",
   "metadata": {},
   "outputs": [],
   "source": [
    "corr = df.corr()"
   ]
  },
  {
   "cell_type": "code",
   "execution_count": 12,
   "id": "9a72a259",
   "metadata": {},
   "outputs": [
    {
     "data": {
      "text/html": [
       "<div>\n",
       "<style scoped>\n",
       "    .dataframe tbody tr th:only-of-type {\n",
       "        vertical-align: middle;\n",
       "    }\n",
       "\n",
       "    .dataframe tbody tr th {\n",
       "        vertical-align: top;\n",
       "    }\n",
       "\n",
       "    .dataframe thead th {\n",
       "        text-align: right;\n",
       "    }\n",
       "</style>\n",
       "<table border=\"1\" class=\"dataframe\">\n",
       "  <thead>\n",
       "    <tr style=\"text-align: right;\">\n",
       "      <th></th>\n",
       "      <th>BTC</th>\n",
       "      <th>Gold</th>\n",
       "      <th>S&amp;P500</th>\n",
       "      <th>NASDAQ</th>\n",
       "      <th>M2SL</th>\n",
       "    </tr>\n",
       "  </thead>\n",
       "  <tbody>\n",
       "    <tr>\n",
       "      <th>BTC</th>\n",
       "      <td>1.000000</td>\n",
       "      <td>0.766714</td>\n",
       "      <td>0.897872</td>\n",
       "      <td>0.918841</td>\n",
       "      <td>0.837029</td>\n",
       "    </tr>\n",
       "    <tr>\n",
       "      <th>Gold</th>\n",
       "      <td>0.766714</td>\n",
       "      <td>1.000000</td>\n",
       "      <td>0.896406</td>\n",
       "      <td>0.911007</td>\n",
       "      <td>0.945620</td>\n",
       "    </tr>\n",
       "    <tr>\n",
       "      <th>S&amp;P500</th>\n",
       "      <td>0.897872</td>\n",
       "      <td>0.896406</td>\n",
       "      <td>1.000000</td>\n",
       "      <td>0.984172</td>\n",
       "      <td>0.962452</td>\n",
       "    </tr>\n",
       "    <tr>\n",
       "      <th>NASDAQ</th>\n",
       "      <td>0.918841</td>\n",
       "      <td>0.911007</td>\n",
       "      <td>0.984172</td>\n",
       "      <td>1.000000</td>\n",
       "      <td>0.951484</td>\n",
       "    </tr>\n",
       "    <tr>\n",
       "      <th>M2SL</th>\n",
       "      <td>0.837029</td>\n",
       "      <td>0.945620</td>\n",
       "      <td>0.962452</td>\n",
       "      <td>0.951484</td>\n",
       "      <td>1.000000</td>\n",
       "    </tr>\n",
       "  </tbody>\n",
       "</table>\n",
       "</div>"
      ],
      "text/plain": [
       "             BTC      Gold    S&P500    NASDAQ      M2SL\n",
       "BTC     1.000000  0.766714  0.897872  0.918841  0.837029\n",
       "Gold    0.766714  1.000000  0.896406  0.911007  0.945620\n",
       "S&P500  0.897872  0.896406  1.000000  0.984172  0.962452\n",
       "NASDAQ  0.918841  0.911007  0.984172  1.000000  0.951484\n",
       "M2SL    0.837029  0.945620  0.962452  0.951484  1.000000"
      ]
     },
     "execution_count": 12,
     "metadata": {},
     "output_type": "execute_result"
    }
   ],
   "source": [
    "corr"
   ]
  },
  {
   "cell_type": "code",
   "execution_count": 13,
   "id": "fd0f0088",
   "metadata": {},
   "outputs": [
    {
     "data": {
      "text/plain": [
       "Text(0.5, 1.0, 'Heat-map Korelasi Silang Antar Asset')"
      ]
     },
     "execution_count": 13,
     "metadata": {},
     "output_type": "execute_result"
    },
    {
     "data": {
      "image/png": "[encoded data removed]",
      "text/plain": [
       "<Figure size 640x480 with 2 Axes>"
      ]
     },
     "metadata": {},
     "output_type": "display_data"
    }
   ],
   "source": [
    "plt.title(2)\n",
    "sns.heatmap(corr)\n",
    "plt.title(\"Heat-map Korelasi Silang Antar Asset\")"
   ]
  },
  {
   "cell_type": "code",
   "execution_count": 14,
   "id": "5b08d035",
   "metadata": {},
   "outputs": [],
   "source": [
    "# Prediksi Harga Bitcoin Menggunakan Tensorflow"
   ]
  },
  {
   "cell_type": "code",
   "execution_count": 15,
   "id": "217f59f7",
   "metadata": {},
   "outputs": [
    {
     "name": "stderr",
     "output_type": "stream",
     "text": [
      "2023-05-07 23:53:41.763433: I tensorflow/core/platform/cpu_feature_guard.cc:182] This TensorFlow binary is optimized to use available CPU instructions in performance-critical operations.\n",
      "To enable the following instructions: AVX2 AVX512F AVX512_VNNI FMA, in other operations, rebuild TensorFlow with the appropriate compiler flags.\n"
     ]
    }
   ],
   "source": [
    "import tensorflow as tf\n",
    "from tensorflow.keras.layers import Input, Dense, LSTM\n",
    "from tensorflow.keras.models import Model\n",
    "from tensorflow.keras.applications import DenseNet121"
   ]
  },
  {
   "cell_type": "code",
   "execution_count": 16,
   "id": "31872154",
   "metadata": {},
   "outputs": [],
   "source": [
    "def windowed_dataset(series, window_size, batch_size, shuffle_buffer):\n",
    "    series = tf.expand_dims(series, axis=-1)\n",
    "    ds = tf.data.Dataset.from_tensor_slices(series)\n",
    "    ds = ds.window(window_size + 1, shift=1, drop_remainder=True)\n",
    "    ds = ds.flat_map(lambda w: w.batch(window_size + 1))\n",
    "    ds = ds.shuffle(shuffle_buffer)\n",
    "    ds = ds.map(lambda w: (w[:-1], w[1:]))\n",
    "    return ds.batch(batch_size).prefetch(1)\n"
   ]
  },
  {
   "cell_type": "code",
   "execution_count": 17,
   "id": "388bc986",
   "metadata": {},
   "outputs": [],
   "source": [
    "def create_dataset(data, time_steps):\n",
    "    X, y = [], []\n",
    "    for i in range(len(data) - time_steps):\n",
    "        X.append(data[i:i+time_steps])\n",
    "        y.append(data[i+time_steps])\n",
    "    return np.array(X), np.array(y)"
   ]
  },
  {
   "cell_type": "code",
   "execution_count": 18,
   "id": "1509dfff",
   "metadata": {},
   "outputs": [],
   "source": [
    "x = df.index\n",
    "y = df['BTC'].values\n",
    "y -=np.min(y)\n",
    "y /=np.max(y)"
   ]
  },
  {
   "cell_type": "code",
   "execution_count": 19,
   "id": "318c990a",
   "metadata": {},
   "outputs": [],
   "source": [
    "split_time = int(len(x)*0.8)"
   ]
  },
  {
   "cell_type": "code",
   "execution_count": 20,
   "id": "c47f7e32",
   "metadata": {},
   "outputs": [],
   "source": [
    "y_train = y[:split_time]\n",
    "y_test = y[split_time:]\n",
    "\n",
    "X_train,Y_train = create_dataset(y_train,7)\n",
    "X_test,Y_test = create_dataset(y_test,7)"
   ]
  },
  {
   "cell_type": "code",
   "execution_count": 21,
   "id": "2de0c166",
   "metadata": {},
   "outputs": [
    {
     "ename": "NameError",
     "evalue": "name 'x_train' is not defined",
     "output_type": "error",
     "traceback": [
      "\u001b[0;31m---------------------------------------------------------------------------\u001b[0m",
      "\u001b[0;31mNameError\u001b[0m                                 Traceback (most recent call last)",
      "Cell \u001b[0;32mIn[21], line 1\u001b[0m\n\u001b[0;32m----> 1\u001b[0m plt\u001b[38;5;241m.\u001b[39mplot(\u001b[43mx_train\u001b[49m,y_train)\n\u001b[1;32m      2\u001b[0m plt\u001b[38;5;241m.\u001b[39mplot(x_test,y_test)\n",
      "\u001b[0;31mNameError\u001b[0m: name 'x_train' is not defined"
     ]
    }
   ],
   "source": [
    "plt.plot(x_train,y_train)\n",
    "plt.plot(x_test,y_test)"
   ]
  },
  {
   "cell_type": "code",
   "execution_count": null,
   "id": "973be107",
   "metadata": {},
   "outputs": [],
   "source": [
    "model = tf.keras.models.Sequential([\n",
    "  tf.keras.layers.LSTM(64, return_sequences=True),\n",
    "  tf.keras.layers.LSTM(64),\n",
    "  tf.keras.layers.Dense(1),\n",
    "])"
   ]
  },
  {
   "cell_type": "code",
   "execution_count": null,
   "id": "23fa6d21",
   "metadata": {},
   "outputs": [],
   "source": [
    "model.compile(loss=tf.keras.losses.Huber(),\n",
    "                  optimizer=tf.keras.optimizers.RMSprop(learning_rate=1.0000e-04, momentum=0.9),\n",
    "                  metrics=[tf.keras.metrics.MeanAbsoluteError()])\n",
    "model.fit(Y_train,epochs=25,verbose=1,validation_data=(Y_test))"
   ]
  },
  {
   "cell_type": "code",
   "execution_count": null,
   "id": "339a02f9",
   "metadata": {},
   "outputs": [],
   "source": [
    "model.predict(X_test)"
   ]
  },
  {
   "cell_type": "code",
   "execution_count": null,
   "id": "8926c0eb",
   "metadata": {},
   "outputs": [],
   "source": []
  }
 ],
 "metadata": {
  "kernelspec": {
   "display_name": "Python 3 (ipykernel)",
   "language": "python",
   "name": "python3"
  },
  "language_info": {
   "codemirror_mode": {
    "name": "ipython",
    "version": 3
   },
   "file_extension": ".py",
   "mimetype": "text/x-python",
   "name": "python",
   "nbconvert_exporter": "python",
   "pygments_lexer": "ipython3",
   "version": "3.9.6"
  }
 },
 "nbformat": 4,
 "nbformat_minor": 5
}
